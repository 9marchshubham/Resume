{
  "nbformat": 4,
  "nbformat_minor": 0,
  "metadata": {
    "colab": {
      "name": "Untitled0.ipynb",
      "provenance": [],
      "authorship_tag": "ABX9TyP/gS7rdy7IcQhPw8ctfYyS",
      "include_colab_link": true
    },
    "kernelspec": {
      "name": "python3",
      "display_name": "Python 3"
    },
    "language_info": {
      "name": "python"
    }
  },
  "cells": [
    {
      "cell_type": "markdown",
      "metadata": {
        "id": "view-in-github",
        "colab_type": "text"
      },
      "source": [
        "<a href=\"https://colab.research.google.com/github/9marchshubham/Resume_1.2/blob/master/consolidation_files.ipynb\" target=\"_parent\"><img src=\"https://colab.research.google.com/assets/colab-badge.svg\" alt=\"Open In Colab\"/></a>"
      ]
    },
    {
      "cell_type": "code",
      "metadata": {
        "id": "l0Z7HqcnKwiG"
      },
      "source": [
        "import os"
      ],
      "execution_count": 1,
      "outputs": []
    },
    {
      "cell_type": "code",
      "metadata": {
        "id": "6MIXaql2K0kb"
      },
      "source": [
        "import pandas as pd"
      ],
      "execution_count": 2,
      "outputs": []
    },
    {
      "cell_type": "code",
      "metadata": {
        "id": "BbGuqMzgK42M"
      },
      "source": [
        "cwd = os.path.abspath('')"
      ],
      "execution_count": 3,
      "outputs": []
    },
    {
      "cell_type": "code",
      "metadata": {
        "id": "Im10o2PsK8Q8"
      },
      "source": [
        "files = os.listdir(cwd)"
      ],
      "execution_count": 4,
      "outputs": []
    },
    {
      "cell_type": "code",
      "metadata": {
        "colab": {
          "base_uri": "https://localhost:8080/",
          "height": 35
        },
        "id": "z_f0JcVELAhg",
        "outputId": "41ffb9f2-e88e-476d-ebd4-fe934e75f8d6"
      },
      "source": [
        "cwd"
      ],
      "execution_count": 5,
      "outputs": [
        {
          "output_type": "execute_result",
          "data": {
            "application/vnd.google.colaboratory.intrinsic+json": {
              "type": "string"
            },
            "text/plain": [
              "'/content'"
            ]
          },
          "metadata": {
            "tags": []
          },
          "execution_count": 5
        }
      ]
    },
    {
      "cell_type": "code",
      "metadata": {
        "colab": {
          "base_uri": "https://localhost:8080/"
        },
        "id": "kUlKbVmLLDHX",
        "outputId": "84c07983-6c8b-4604-c426-baa49f72d5d4"
      },
      "source": [
        "files"
      ],
      "execution_count": 6,
      "outputs": [
        {
          "output_type": "execute_result",
          "data": {
            "text/plain": [
              "['.config',\n",
              " 'WAVE I_GF_Tarun_01-04-2021.xlsx',\n",
              " 'WAVE I_GF_Astha_01-04-2021.xlsx',\n",
              " 'WAVE I_GF_Aman_01-04-2021.xlsx',\n",
              " 'WAVE I_GF_Ali_01-04-2021.xlsx',\n",
              " 'output',\n",
              " '.ipynb_checkpoints',\n",
              " 'sample_data']"
            ]
          },
          "metadata": {
            "tags": []
          },
          "execution_count": 6
        }
      ]
    },
    {
      "cell_type": "code",
      "metadata": {
        "colab": {
          "base_uri": "https://localhost:8080/",
          "height": 333
        },
        "id": "CKo_L4j1Lam4",
        "outputId": "35c410dc-e8ec-404c-9904-2d802ed2dc50"
      },
      "source": [
        "df = pd.DataFrame()\n",
        "for file in files:\n",
        "     if file.endswith('.xlsx'):\n",
        "            df = df.append(pd.read_excel(file), ignore_index=True, sort=False) \n",
        "df.head()"
      ],
      "execution_count": 7,
      "outputs": [
        {
          "output_type": "execute_result",
          "data": {
            "text/html": [
              "<div>\n",
              "<style scoped>\n",
              "    .dataframe tbody tr th:only-of-type {\n",
              "        vertical-align: middle;\n",
              "    }\n",
              "\n",
              "    .dataframe tbody tr th {\n",
              "        vertical-align: top;\n",
              "    }\n",
              "\n",
              "    .dataframe thead th {\n",
              "        text-align: right;\n",
              "    }\n",
              "</style>\n",
              "<table border=\"1\" class=\"dataframe\">\n",
              "  <thead>\n",
              "    <tr style=\"text-align: right;\">\n",
              "      <th></th>\n",
              "      <th>Xeeva_Id</th>\n",
              "      <th>ENR_CRITERIA*</th>\n",
              "      <th>ENR_MFR_NAME*</th>\n",
              "      <th>ENR_MFR_PART*</th>\n",
              "      <th>ENR_SUPPLIER_NAME*</th>\n",
              "      <th>ENR_SUPPLIER_PART*</th>\n",
              "      <th>INPUT_PART</th>\n",
              "      <th>ENR_NOUN*</th>\n",
              "      <th>ENR_MODIFIER</th>\n",
              "      <th>ENR_SPECS*</th>\n",
              "      <th>ENR_ITEM_NAME</th>\n",
              "      <th>ENR_BREADCRUMB</th>\n",
              "      <th>ENR_URL*</th>\n",
              "      <th>ENR_STATUS*</th>\n",
              "      <th>ENR_COMMENTS*</th>\n",
              "      <th>QC_Rejection_Comments</th>\n",
              "      <th>ENR_UNSPSC</th>\n",
              "      <th>ENR_IU_ID(VDM Cases)</th>\n",
              "      <th>ENR_DATASOURCE*</th>\n",
              "      <th>ENR_MANUAL_QC*</th>\n",
              "      <th>DATE*</th>\n",
              "      <th>OWNER</th>\n",
              "      <th>ENR_SPECS*</th>\n",
              "      <th>QC_DATE</th>\n",
              "      <th>ENR_OWNER</th>\n",
              "    </tr>\n",
              "  </thead>\n",
              "  <tbody>\n",
              "    <tr>\n",
              "      <th>0</th>\n",
              "      <td>Wave1_136314</td>\n",
              "      <td>Accepted</td>\n",
              "      <td>WAUKESHA</td>\n",
              "      <td>20-115</td>\n",
              "      <td>Triplex Sales Company</td>\n",
              "      <td>NaN</td>\n",
              "      <td>20-115</td>\n",
              "      <td>GASKET</td>\n",
              "      <td>NaN</td>\n",
              "      <td>SIZE : 3\" | MATERIAL : TEFLON</td>\n",
              "      <td>NaN</td>\n",
              "      <td>NaN</td>\n",
              "      <td>https://www.triplexsales.com/documents/WCB-Tri...</td>\n",
              "      <td>Manual Enriched</td>\n",
              "      <td>NaN</td>\n",
              "      <td>NaN</td>\n",
              "      <td>NaN</td>\n",
              "      <td>NaN</td>\n",
              "      <td>Manual</td>\n",
              "      <td>NaN</td>\n",
              "      <td>2021-04-01</td>\n",
              "      <td>Tarun</td>\n",
              "      <td>NaN</td>\n",
              "      <td>NaN</td>\n",
              "      <td>NaN</td>\n",
              "    </tr>\n",
              "    <tr>\n",
              "      <th>1</th>\n",
              "      <td>Wave1_146766</td>\n",
              "      <td>Rejected</td>\n",
              "      <td>NaN</td>\n",
              "      <td>NaN</td>\n",
              "      <td>NaN</td>\n",
              "      <td>NaN</td>\n",
              "      <td>NaN</td>\n",
              "      <td>NaN</td>\n",
              "      <td>NaN</td>\n",
              "      <td>NaN</td>\n",
              "      <td>NaN</td>\n",
              "      <td>NaN</td>\n",
              "      <td>NaN</td>\n",
              "      <td>Manual Rejected</td>\n",
              "      <td>Bad Part #</td>\n",
              "      <td>NaN</td>\n",
              "      <td>NaN</td>\n",
              "      <td>NaN</td>\n",
              "      <td>Manual</td>\n",
              "      <td>NaN</td>\n",
              "      <td>2021-04-01</td>\n",
              "      <td>Tarun</td>\n",
              "      <td>NaN</td>\n",
              "      <td>NaN</td>\n",
              "      <td>NaN</td>\n",
              "    </tr>\n",
              "    <tr>\n",
              "      <th>2</th>\n",
              "      <td>Wave1_146769</td>\n",
              "      <td>Rejected</td>\n",
              "      <td>NaN</td>\n",
              "      <td>NaN</td>\n",
              "      <td>NaN</td>\n",
              "      <td>NaN</td>\n",
              "      <td>NaN</td>\n",
              "      <td>NaN</td>\n",
              "      <td>NaN</td>\n",
              "      <td>NaN</td>\n",
              "      <td>NaN</td>\n",
              "      <td>NaN</td>\n",
              "      <td>NaN</td>\n",
              "      <td>Manual Rejected</td>\n",
              "      <td>Bad Part #</td>\n",
              "      <td>NaN</td>\n",
              "      <td>NaN</td>\n",
              "      <td>NaN</td>\n",
              "      <td>Manual</td>\n",
              "      <td>NaN</td>\n",
              "      <td>2021-04-01</td>\n",
              "      <td>Tarun</td>\n",
              "      <td>NaN</td>\n",
              "      <td>NaN</td>\n",
              "      <td>NaN</td>\n",
              "    </tr>\n",
              "    <tr>\n",
              "      <th>3</th>\n",
              "      <td>Wave1_146758</td>\n",
              "      <td>Rejected</td>\n",
              "      <td>NaN</td>\n",
              "      <td>NaN</td>\n",
              "      <td>NaN</td>\n",
              "      <td>NaN</td>\n",
              "      <td>NaN</td>\n",
              "      <td>NaN</td>\n",
              "      <td>NaN</td>\n",
              "      <td>NaN</td>\n",
              "      <td>NaN</td>\n",
              "      <td>NaN</td>\n",
              "      <td>NaN</td>\n",
              "      <td>Manual Rejected</td>\n",
              "      <td>Bad Part #</td>\n",
              "      <td>NaN</td>\n",
              "      <td>NaN</td>\n",
              "      <td>NaN</td>\n",
              "      <td>Manual</td>\n",
              "      <td>NaN</td>\n",
              "      <td>2021-04-01</td>\n",
              "      <td>Tarun</td>\n",
              "      <td>NaN</td>\n",
              "      <td>NaN</td>\n",
              "      <td>NaN</td>\n",
              "    </tr>\n",
              "    <tr>\n",
              "      <th>4</th>\n",
              "      <td>Wave1_146770</td>\n",
              "      <td>Rejected</td>\n",
              "      <td>NaN</td>\n",
              "      <td>NaN</td>\n",
              "      <td>NaN</td>\n",
              "      <td>NaN</td>\n",
              "      <td>NaN</td>\n",
              "      <td>NaN</td>\n",
              "      <td>NaN</td>\n",
              "      <td>NaN</td>\n",
              "      <td>NaN</td>\n",
              "      <td>NaN</td>\n",
              "      <td>NaN</td>\n",
              "      <td>Manual Rejected</td>\n",
              "      <td>Bad Part #</td>\n",
              "      <td>NaN</td>\n",
              "      <td>NaN</td>\n",
              "      <td>NaN</td>\n",
              "      <td>Manual</td>\n",
              "      <td>NaN</td>\n",
              "      <td>2021-04-01</td>\n",
              "      <td>Tarun</td>\n",
              "      <td>NaN</td>\n",
              "      <td>NaN</td>\n",
              "      <td>NaN</td>\n",
              "    </tr>\n",
              "  </tbody>\n",
              "</table>\n",
              "</div>"
            ],
            "text/plain": [
              "       Xeeva_Id ENR_CRITERIA* ENR_MFR_NAME*  ...  ENR_SPECS* QC_DATE ENR_OWNER\n",
              "0  Wave1_136314      Accepted      WAUKESHA  ...         NaN     NaN       NaN\n",
              "1  Wave1_146766      Rejected           NaN  ...         NaN     NaN       NaN\n",
              "2  Wave1_146769      Rejected           NaN  ...         NaN     NaN       NaN\n",
              "3  Wave1_146758      Rejected           NaN  ...         NaN     NaN       NaN\n",
              "4  Wave1_146770      Rejected           NaN  ...         NaN     NaN       NaN\n",
              "\n",
              "[5 rows x 25 columns]"
            ]
          },
          "metadata": {
            "tags": []
          },
          "execution_count": 7
        }
      ]
    },
    {
      "cell_type": "code",
      "metadata": {
        "colab": {
          "base_uri": "https://localhost:8080/"
        },
        "id": "deUcdx3iLlxV",
        "outputId": "42ae86d5-d822-4abb-90ca-f66a3bbbab0a"
      },
      "source": [
        "df.shape"
      ],
      "execution_count": 8,
      "outputs": [
        {
          "output_type": "execute_result",
          "data": {
            "text/plain": [
              "(440, 25)"
            ]
          },
          "metadata": {
            "tags": []
          },
          "execution_count": 8
        }
      ]
    },
    {
      "cell_type": "code",
      "metadata": {
        "colab": {
          "base_uri": "https://localhost:8080/"
        },
        "id": "AM9YtrubLpwZ",
        "outputId": "f4da11b6-3dbb-44f3-aebf-292be4890923"
      },
      "source": [
        "df.shape"
      ],
      "execution_count": 9,
      "outputs": [
        {
          "output_type": "execute_result",
          "data": {
            "text/plain": [
              "(440, 25)"
            ]
          },
          "metadata": {
            "tags": []
          },
          "execution_count": 9
        }
      ]
    },
    {
      "cell_type": "code",
      "metadata": {
        "id": "WaK7sruJLt7b"
      },
      "source": [
        "coloumn_names = [\"Xeeva_Id\",\"ENR_CRITERIA*\",\"ENR_MFR_NAME*\",\"ENR_MFR_PART*\",\"ENR_SUPPLIER_NAME*\",\"ENR_SUPPLIER_PART*\",\"INPUT_PART\",\"ENR_NOUN*\",\"ENR_MODIFIER\",\"ENR_SPECS*\",\"ENR_ITEM_NAME\",\"ENR_BREADCRUMB\",\"ENR_URL*\",\"ENR_STATUS*\",\"ENR_COMMENTS*\",\"QC_Rejection_Comments\",\"ENR_UNSPSC\",\"ENR_IU_ID(VDM Cases)\",\"ENR_DATASOURCE*\",\"ENR_MANUAL_QC*\",\"DATE*\",\"OWNER\"]"
      ],
      "execution_count": 10,
      "outputs": []
    },
    {
      "cell_type": "code",
      "metadata": {
        "id": "kRfCWwOwL0vD"
      },
      "source": [
        "df = df.reindex(columns = coloumn_names)"
      ],
      "execution_count": 11,
      "outputs": []
    },
    {
      "cell_type": "code",
      "metadata": {
        "id": "3YyypORcMCcq"
      },
      "source": [
        "for file in files:\n",
        "     if file.endswith('.xlsx'):\n",
        "            os.remove(file)"
      ],
      "execution_count": 12,
      "outputs": []
    },
    {
      "cell_type": "code",
      "metadata": {
        "id": "e4KRMN8QMFKv"
      },
      "source": [
        "\n",
        "writer = pd.ExcelWriter('output/combined_file1.xlsx',date_format = 'dd-mm-yyyy',datetime_format='dd-mm-yyyy',options={'strings_to_urls': False})\n",
        "df.to_excel(writer, index=False)\n",
        "writer.close()"
      ],
      "execution_count": 13,
      "outputs": []
    }
  ]
}
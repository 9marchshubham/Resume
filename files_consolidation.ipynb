{
  "nbformat": 4,
  "nbformat_minor": 0,
  "metadata": {
    "colab": {
      "name": "files_consolidation",
      "provenance": [],
      "include_colab_link": true
    },
    "kernelspec": {
      "name": "python3",
      "display_name": "Python 3"
    },
    "language_info": {
      "name": "python"
    }
  },
  "cells": [
    {
      "cell_type": "markdown",
      "metadata": {
        "id": "view-in-github",
        "colab_type": "text"
      },
      "source": [
        "<a href=\"https://colab.research.google.com/github/9marchshubham/Resume_1.2/blob/master/files_consolidation.ipynb\" target=\"_parent\"><img src=\"https://colab.research.google.com/assets/colab-badge.svg\" alt=\"Open In Colab\"/></a>"
      ]
    },
    {
      "cell_type": "code",
      "metadata": {
        "id": "l0Z7HqcnKwiG"
      },
      "source": [
        "import os\n",
        "import pandas as pd"
      ],
      "execution_count": 1,
      "outputs": []
    },
    {
      "cell_type": "code",
      "metadata": {
        "id": "BbGuqMzgK42M"
      },
      "source": [
        "cwd = os.path.abspath('')\n",
        "files = os.listdir(cwd)"
      ],
      "execution_count": 2,
      "outputs": []
    },
    {
      "cell_type": "code",
      "metadata": {
        "colab": {
          "base_uri": "https://localhost:8080/",
          "height": 316
        },
        "id": "CKo_L4j1Lam4",
        "outputId": "76ad3c5d-ba1a-4d8c-c5bd-73de1351a766"
      },
      "source": [
        "df = pd.DataFrame()\n",
        "for file in files:\n",
        "     if file.endswith('.xlsx'):\n",
        "            df = df.append(pd.read_excel(file), ignore_index=True, sort=False) \n",
        "df.head()"
      ],
      "execution_count": 3,
      "outputs": [
        {
          "output_type": "execute_result",
          "data": {
            "text/html": [
              "<div>\n",
              "<style scoped>\n",
              "    .dataframe tbody tr th:only-of-type {\n",
              "        vertical-align: middle;\n",
              "    }\n",
              "\n",
              "    .dataframe tbody tr th {\n",
              "        vertical-align: top;\n",
              "    }\n",
              "\n",
              "    .dataframe thead th {\n",
              "        text-align: right;\n",
              "    }\n",
              "</style>\n",
              "<table border=\"1\" class=\"dataframe\">\n",
              "  <thead>\n",
              "    <tr style=\"text-align: right;\">\n",
              "      <th></th>\n",
              "      <th>Xeeva_Id</th>\n",
              "      <th>ENR_CRITERIA*</th>\n",
              "      <th>ENR_MFR_NAME*</th>\n",
              "      <th>ENR_MFR_PART*</th>\n",
              "      <th>ENR_SUPPLIER_NAME*</th>\n",
              "      <th>ENR_SUPPLIER_PART*</th>\n",
              "      <th>INPUT_PART</th>\n",
              "      <th>ENR_NOUN*</th>\n",
              "      <th>ENR_MODIFIER</th>\n",
              "      <th>ENR_SPECS*</th>\n",
              "      <th>ENR_ITEM_NAME</th>\n",
              "      <th>ENR_BREADCRUMB</th>\n",
              "      <th>ENR_URL*</th>\n",
              "      <th>ENR_STATUS*</th>\n",
              "      <th>ENR_COMMENTS*</th>\n",
              "      <th>QC_Rejection_Comments</th>\n",
              "      <th>ENR_UNSPSC</th>\n",
              "      <th>ENR_IU_ID(VDM Cases)</th>\n",
              "      <th>ENR_DATASOURCE*</th>\n",
              "      <th>ENR_MANUAL_QC*</th>\n",
              "      <th>DATE*</th>\n",
              "      <th>OWNER</th>\n",
              "      <th>QC_DATE</th>\n",
              "      <th>ENR_OWNER</th>\n",
              "      <th>ENR_SPECS*</th>\n",
              "    </tr>\n",
              "  </thead>\n",
              "  <tbody>\n",
              "    <tr>\n",
              "      <th>0</th>\n",
              "      <td>Wave1_029287</td>\n",
              "      <td>Rejected</td>\n",
              "      <td>NaN</td>\n",
              "      <td>NaN</td>\n",
              "      <td>NaN</td>\n",
              "      <td>NaN</td>\n",
              "      <td>NaN</td>\n",
              "      <td>NaN</td>\n",
              "      <td>NaN</td>\n",
              "      <td>NaN</td>\n",
              "      <td>NaN</td>\n",
              "      <td>NaN</td>\n",
              "      <td>NaN</td>\n",
              "      <td>Manual Rejected</td>\n",
              "      <td>Bad Part #</td>\n",
              "      <td>NaN</td>\n",
              "      <td>NaN</td>\n",
              "      <td>NaN</td>\n",
              "      <td>Manual</td>\n",
              "      <td>NaN</td>\n",
              "      <td>2021-04-01</td>\n",
              "      <td>Aman</td>\n",
              "      <td>NaN</td>\n",
              "      <td>NaN</td>\n",
              "      <td>NaN</td>\n",
              "    </tr>\n",
              "    <tr>\n",
              "      <th>1</th>\n",
              "      <td>Wave1_034041</td>\n",
              "      <td>Rejected</td>\n",
              "      <td>NaN</td>\n",
              "      <td>NaN</td>\n",
              "      <td>NaN</td>\n",
              "      <td>NaN</td>\n",
              "      <td>NaN</td>\n",
              "      <td>NaN</td>\n",
              "      <td>NaN</td>\n",
              "      <td>NaN</td>\n",
              "      <td>NaN</td>\n",
              "      <td>NaN</td>\n",
              "      <td>NaN</td>\n",
              "      <td>Manual Rejected</td>\n",
              "      <td>Bad Part #</td>\n",
              "      <td>NaN</td>\n",
              "      <td>NaN</td>\n",
              "      <td>NaN</td>\n",
              "      <td>Manual</td>\n",
              "      <td>NaN</td>\n",
              "      <td>2021-04-01</td>\n",
              "      <td>Aman</td>\n",
              "      <td>NaN</td>\n",
              "      <td>NaN</td>\n",
              "      <td>NaN</td>\n",
              "    </tr>\n",
              "    <tr>\n",
              "      <th>2</th>\n",
              "      <td>Wave1_027387</td>\n",
              "      <td>Rejected</td>\n",
              "      <td>NaN</td>\n",
              "      <td>NaN</td>\n",
              "      <td>NaN</td>\n",
              "      <td>NaN</td>\n",
              "      <td>NaN</td>\n",
              "      <td>NaN</td>\n",
              "      <td>NaN</td>\n",
              "      <td>NaN</td>\n",
              "      <td>NaN</td>\n",
              "      <td>NaN</td>\n",
              "      <td>https://www.mroglobalsolutions.com/products/go...</td>\n",
              "      <td>Manual Rejected</td>\n",
              "      <td>Incomplete Part #</td>\n",
              "      <td>NaN</td>\n",
              "      <td>NaN</td>\n",
              "      <td>NaN</td>\n",
              "      <td>Manual</td>\n",
              "      <td>NaN</td>\n",
              "      <td>2021-04-01</td>\n",
              "      <td>Aman</td>\n",
              "      <td>NaN</td>\n",
              "      <td>NaN</td>\n",
              "      <td>NaN</td>\n",
              "    </tr>\n",
              "    <tr>\n",
              "      <th>3</th>\n",
              "      <td>Wave1_027695</td>\n",
              "      <td>Rejected</td>\n",
              "      <td>NaN</td>\n",
              "      <td>NaN</td>\n",
              "      <td>NaN</td>\n",
              "      <td>NaN</td>\n",
              "      <td>NaN</td>\n",
              "      <td>NaN</td>\n",
              "      <td>NaN</td>\n",
              "      <td>NaN</td>\n",
              "      <td>NaN</td>\n",
              "      <td>NaN</td>\n",
              "      <td>NaN</td>\n",
              "      <td>Manual Rejected</td>\n",
              "      <td>Bad Part #</td>\n",
              "      <td>NaN</td>\n",
              "      <td>NaN</td>\n",
              "      <td>NaN</td>\n",
              "      <td>Manual</td>\n",
              "      <td>NaN</td>\n",
              "      <td>2021-04-01</td>\n",
              "      <td>Aman</td>\n",
              "      <td>NaN</td>\n",
              "      <td>NaN</td>\n",
              "      <td>NaN</td>\n",
              "    </tr>\n",
              "    <tr>\n",
              "      <th>4</th>\n",
              "      <td>Wave1_027526</td>\n",
              "      <td>Rejected</td>\n",
              "      <td>NaN</td>\n",
              "      <td>NaN</td>\n",
              "      <td>NaN</td>\n",
              "      <td>NaN</td>\n",
              "      <td>NaN</td>\n",
              "      <td>NaN</td>\n",
              "      <td>NaN</td>\n",
              "      <td>NaN</td>\n",
              "      <td>NaN</td>\n",
              "      <td>NaN</td>\n",
              "      <td>NaN</td>\n",
              "      <td>Manual Rejected</td>\n",
              "      <td>Bad Part #</td>\n",
              "      <td>NaN</td>\n",
              "      <td>NaN</td>\n",
              "      <td>NaN</td>\n",
              "      <td>Manual</td>\n",
              "      <td>NaN</td>\n",
              "      <td>2021-04-01</td>\n",
              "      <td>Aman</td>\n",
              "      <td>NaN</td>\n",
              "      <td>NaN</td>\n",
              "      <td>NaN</td>\n",
              "    </tr>\n",
              "  </tbody>\n",
              "</table>\n",
              "</div>"
            ],
            "text/plain": [
              "       Xeeva_Id ENR_CRITERIA* ENR_MFR_NAME*  ... QC_DATE ENR_OWNER ENR_SPECS*\n",
              "0  Wave1_029287      Rejected           NaN  ...     NaN       NaN        NaN\n",
              "1  Wave1_034041      Rejected           NaN  ...     NaN       NaN        NaN\n",
              "2  Wave1_027387      Rejected           NaN  ...     NaN       NaN        NaN\n",
              "3  Wave1_027695      Rejected           NaN  ...     NaN       NaN        NaN\n",
              "4  Wave1_027526      Rejected           NaN  ...     NaN       NaN        NaN\n",
              "\n",
              "[5 rows x 25 columns]"
            ]
          },
          "metadata": {
            "tags": []
          },
          "execution_count": 3
        }
      ]
    },
    {
      "cell_type": "code",
      "metadata": {
        "colab": {
          "base_uri": "https://localhost:8080/"
        },
        "id": "deUcdx3iLlxV",
        "outputId": "ddc1c958-0fef-4781-f6a0-6ed01b3d63ac"
      },
      "source": [
        "df.shape"
      ],
      "execution_count": 4,
      "outputs": [
        {
          "output_type": "execute_result",
          "data": {
            "text/plain": [
              "(241, 25)"
            ]
          },
          "metadata": {
            "tags": []
          },
          "execution_count": 4
        }
      ]
    },
    {
      "cell_type": "code",
      "metadata": {
        "id": "WaK7sruJLt7b"
      },
      "source": [
        "coloumn_names = [\"Xeeva_Id\",\"ENR_CRITERIA*\",\"ENR_MFR_NAME*\",\"ENR_MFR_PART*\",\"ENR_SUPPLIER_NAME*\",\"ENR_SUPPLIER_PART*\",\"INPUT_PART\",\"ENR_NOUN*\",\"ENR_MODIFIER\",\"ENR_SPECS*\",\"ENR_ITEM_NAME\",\"ENR_BREADCRUMB\",\"ENR_URL*\",\"ENR_STATUS*\",\"ENR_COMMENTS*\",\"QC_Rejection_Comments\",\"ENR_UNSPSC\",\"ENR_IU_ID(VDM Cases)\",\"ENR_DATASOURCE*\",\"ENR_MANUAL_QC*\",\"DATE*\",\"OWNER\"]"
      ],
      "execution_count": 5,
      "outputs": []
    },
    {
      "cell_type": "code",
      "metadata": {
        "id": "JHbyQxPSZW7n"
      },
      "source": [
        "df['ENR_CRITERIA*'] = df['ENR_CRITERIA*'].str.strip()\n",
        "df['ENR_MFR_NAME*'] = df['ENR_MFR_NAME*'].str.strip()\n",
        "df['ENR_MFR_PART*'] = df['ENR_MFR_PART*'].str.strip()\n",
        "df['ENR_SUPPLIER_NAME*'] = df['ENR_SUPPLIER_NAME*'].str.strip()\n",
        "df['ENR_SUPPLIER_PART*'] = df['ENR_SUPPLIER_PART*'].str.strip()\n",
        "df['INPUT_PART'] = df['INPUT_PART'].str.strip()\n",
        "df['ENR_NOUN*'] = df['ENR_NOUN*'].str.strip()\n",
        "df['ENR_MODIFIER'] = df['ENR_MODIFIER'].str.strip()\n",
        "df['ENR_SPECS*'] = df['ENR_SPECS*'].str.strip()\n",
        "df['ENR_ITEM_NAME'] = df['ENR_ITEM_NAME'].str.strip()\n",
        "df['ENR_BREADCRUMB'] = df['ENR_BREADCRUMB'].str.strip()"
      ],
      "execution_count": 6,
      "outputs": []
    },
    {
      "cell_type": "code",
      "metadata": {
        "id": "kRfCWwOwL0vD"
      },
      "source": [
        "df = df.reindex(columns = coloumn_names)"
      ],
      "execution_count": 7,
      "outputs": []
    },
    {
      "cell_type": "code",
      "metadata": {
        "id": "3YyypORcMCcq"
      },
      "source": [
        "for file in files:\n",
        "     if file.endswith('.xlsx'):\n",
        "            os.remove(file)"
      ],
      "execution_count": 8,
      "outputs": []
    },
    {
      "cell_type": "code",
      "metadata": {
        "id": "e4KRMN8QMFKv"
      },
      "source": [
        "writer = pd.ExcelWriter('sample_data/combined_file1.xlsx',date_format = 'dd-mm-yyyy',datetime_format='dd-mm-yyyy',options={'strings_to_urls': False})\n",
        "df.to_excel(writer, index=False)\n",
        "writer.close()"
      ],
      "execution_count": 9,
      "outputs": []
    }
  ]
}